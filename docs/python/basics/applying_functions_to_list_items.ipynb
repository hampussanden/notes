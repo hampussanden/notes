{
 "cells": [
  {
   "cell_type": "raw",
   "metadata": {},
   "source": [
    "---\n",
    "title: \"Applying Functions To List Items\"\n",
    "author: \"Hampus Sandén\"\n",
    "date: 2017-12-20T11:53:49-07:00\n",
    "description: \"Applying Functions To List Items\"\n",
    "type: technical_note\n",
    "draft: false\n",
    "---"
   ]
  },
  {
   "cell_type": "raw",
   "metadata": {},
   "source": [
    "Below are three examples of how you would apply a function that capitalizes characters from `['a', 'b', 'c']` to `['A', 'B', 'C']`. \n",
    "\n",
    "In the first example we are using a simple for loop to iterate over each character in the list item. In the second example we are using the built in `map()` function which iterates over the list with str.upper applied. In the third example we apply the string method `upper()` in a list comprehension."
   ]
  },
  {
   "cell_type": "markdown",
   "metadata": {},
   "source": [
    "## Create a list with characters"
   ]
  },
  {
   "cell_type": "code",
   "execution_count": 7,
   "metadata": {},
   "outputs": [],
   "source": [
    "alphabet = ['g', 'o', 'o', 'g', 'l', 'e']"
   ]
  },
  {
   "cell_type": "markdown",
   "metadata": {},
   "source": [
    "## Using A For Loop"
   ]
  },
  {
   "cell_type": "markdown",
   "metadata": {},
   "source": [
    "### Create a for loop that goes through the list alphabet and capitalizes each character"
   ]
  },
  {
   "cell_type": "code",
   "execution_count": 8,
   "metadata": {
    "tags": [
     "nodataframe"
    ]
   },
   "outputs": [
    {
     "data": {
      "text/plain": [
       "['G', 'O', 'O', 'G', 'L', 'E']"
      ]
     },
     "execution_count": 8,
     "metadata": {},
     "output_type": "execute_result"
    }
   ],
   "source": [
    "# create a variable for the for loop results\n",
    "alphabet_capitalized_for_loop = []\n",
    "\n",
    "# for every item in alphabet\n",
    "for i in alphabet:\n",
    "    # capitalize the item and add it to alphabet_capitalized_for_loop\n",
    "    alphabet_capitalized_for_loop.append(i.upper())\n",
    "    \n",
    "# view the outcome\n",
    "alphabet_capitalized_for_loop"
   ]
  },
  {
   "cell_type": "markdown",
   "metadata": {},
   "source": [
    "## Using Map()"
   ]
  },
  {
   "cell_type": "markdown",
   "metadata": {},
   "source": [
    "### Map the capitalizer function to the list alphabet and convert the map into a list"
   ]
  },
  {
   "cell_type": "code",
   "execution_count": 12,
   "metadata": {
    "tags": [
     "nodataframe"
    ]
   },
   "outputs": [
    {
     "data": {
      "text/plain": [
       "['G', 'O', 'O', 'G', 'L', 'E']"
      ]
     },
     "execution_count": 12,
     "metadata": {},
     "output_type": "execute_result"
    }
   ],
   "source": [
    "alphabet_capitalized_map = list(map(str.upper, alphabet))\n",
    "\n",
    "# view the outcome\n",
    "alphabet_capitalized_map"
   ]
  },
  {
   "cell_type": "markdown",
   "metadata": {},
   "source": [
    "## Using List Comprehension"
   ]
  },
  {
   "cell_type": "markdown",
   "metadata": {},
   "source": [
    "### Apply the expression x.upper to each item in the list alphabet"
   ]
  },
  {
   "cell_type": "code",
   "execution_count": 10,
   "metadata": {
    "tags": [
     "nodataframe"
    ]
   },
   "outputs": [
    {
     "data": {
      "text/plain": [
       "['G', 'O', 'O', 'G', 'L', 'E']"
      ]
     },
     "execution_count": 10,
     "metadata": {},
     "output_type": "execute_result"
    }
   ],
   "source": [
    "alphabet_capitalized_list_comprehension = [x.upper() for x in alphabet]\n",
    "\n",
    "# view the outcome\n",
    "alphabet_capitalized_list_comprehension"
   ]
  }
 ],
 "metadata": {
  "kernelspec": {
   "display_name": "Python 3",
   "language": "python",
   "name": "python3"
  },
  "language_info": {
   "codemirror_mode": {
    "name": "ipython",
    "version": 3
   },
   "file_extension": ".py",
   "mimetype": "text/x-python",
   "name": "python",
   "nbconvert_exporter": "python",
   "pygments_lexer": "ipython3",
   "version": "3.6.9"
  }
 },
 "nbformat": 4,
 "nbformat_minor": 4
}
