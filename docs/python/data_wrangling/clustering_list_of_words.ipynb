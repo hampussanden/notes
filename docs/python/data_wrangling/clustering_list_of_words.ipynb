{
 "cells": [
  {
   "cell_type": "raw",
   "metadata": {},
   "source": [
    "---\n",
    "title: \"Clustering A List Of Words\"\n",
    "author: \"Hampus Sandén\"\n",
    "date: 2020-08-20T11:53:49+02:00\n",
    "description: \"Clustering A List Of Words\"\n",
    "type: technical_note\n",
    "draft: false\n",
    "aliases:\n",
    "    - /python/clustering_a_list_of_words.html\n",
    "---"
   ]
  },
  {
   "cell_type": "code",
   "execution_count": 30,
   "metadata": {},
   "outputs": [
    {
     "name": "stdout",
     "output_type": "stream",
     "text": [
      "input words: ['ancestor', 'ancestry', 'elder', 'elderly', 'parent', 'parentage']\n",
      "output groups: [['ancestor', 'ancestry'], ['elder', 'elderly'], ['parent', 'parentage']]\n"
     ]
    }
   ],
   "source": [
    "from fuzzywuzzy import fuzz\n",
    "\n",
    "word_list = ['ancestor', 'ancestry', 'elder', 'elderly', 'parent', 'parentage']\n",
    "print('input words:', word_list)\n",
    "\n",
    "groups = list()\n",
    "for word in word_list:\n",
    "    for g in groups:\n",
    "        if all(fuzz.ratio(word, w) > 75 for w in g):\n",
    "            g.append(word)\n",
    "            break\n",
    "    else:\n",
    "        groups.append([word, ])\n",
    "\n",
    "print('output groups:', groups)"
   ]
  }
 ],
 "metadata": {
  "kernelspec": {
   "display_name": "Python 3",
   "language": "python",
   "name": "python3"
  },
  "language_info": {
   "codemirror_mode": {
    "name": "ipython",
    "version": 3
   },
   "file_extension": ".py",
   "mimetype": "text/x-python",
   "name": "python",
   "nbconvert_exporter": "python",
   "pygments_lexer": "ipython3",
   "version": "3.6.9"
  }
 },
 "nbformat": 4,
 "nbformat_minor": 4
}
