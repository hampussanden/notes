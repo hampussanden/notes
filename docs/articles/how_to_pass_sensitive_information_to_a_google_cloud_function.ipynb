{
 "cells": [
  {
   "cell_type": "raw",
   "metadata": {},
   "source": [
    "---\n",
    "title: \"How to pass sensitive information to a Google Cloud Function\"\n",
    "author: \"Hampus Sandén\"\n",
    "date: 2020-08-20T11:53:49+02:00\n",
    "description: \"How to pass sensitive information to a Google Cloud Function\"\n",
    "type: article\n",
    "draft: true\n",
    "---"
   ]
  },
  {
   "cell_type": "code",
   "execution_count": null,
   "metadata": {},
   "outputs": [],
   "source": [
    "# https://dev.to/googlecloud/using-secrets-in-google-cloud-functions-5aem\n",
    "# https://codelabs.developers.google.com/codelabs/secret-manager-python/#0"
   ]
  },
  {
   "cell_type": "markdown",
   "metadata": {},
   "source": [
    "Google Cloud Functions makes it easy to build serverless Python programs. This post will show you how you can use the Google Secret Manager to safely and securely use secrets in your function.\n",
    "\n",
    "Hard-coding or using environment variables to store plain-text strings that should be \"secret\", like API keys, secret tokens for cookies, etc. generally isn't recommended. Any third-party dependency or library you use has access to these same environment variables.\n",
    "\n",
    "However, it's very convenient to store secrets along side your function. You can still do it, as long as you store these secrets safely and securely.\n",
    "\n",
    "We'll do this by storing our secret with the Google Secret Manager, and accessing our secrets at the application layer. Doing so will limit access to the secret to just members of your team who have access to the secret (and, of course, the function when it's running on Google Cloud)."
   ]
  },
  {
   "cell_type": "code",
   "execution_count": 2,
   "metadata": {},
   "outputs": [],
   "source": [
    "import os\n",
    "from google.cloud import secretmanager\n",
    "\n",
    "client = secretmanager.SecretManagerServiceClient()\n",
    "secret_name = \"my-secret\"\n",
    "project_id = os.environ[\"GCP_PROJECT\"]\n",
    "resource_name = f\"projects/{project_id}/secrets/{secret_name}/versions/latest\"\n",
    "response = client.access_secret_version(resource_name)\n",
    "secret_string = response.payload.data.decode('UTF-8')\n",
    "\n",
    "def secret_hello(request):\n",
    "    return secret_string"
   ]
  }
 ],
 "metadata": {
  "kernelspec": {
   "display_name": "Python 3",
   "language": "python",
   "name": "python3"
  },
  "language_info": {
   "codemirror_mode": {
    "name": "ipython",
    "version": 3
   },
   "file_extension": ".py",
   "mimetype": "text/x-python",
   "name": "python",
   "nbconvert_exporter": "python",
   "pygments_lexer": "ipython3",
   "version": "3.6.9"
  }
 },
 "nbformat": 4,
 "nbformat_minor": 4
}
