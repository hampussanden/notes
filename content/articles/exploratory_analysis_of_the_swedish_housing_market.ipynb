{
 "cells": [
  {
   "cell_type": "code",
   "execution_count": null,
   "metadata": {},
   "outputs": [],
   "source": [
    "---\n",
    "title: \"Exploratory Analysis Of The Swedish Housing Market\"\n",
    "author: \"Hampus Sandén\"\n",
    "date: 2019-05-01T11:53:49+02:00\n",
    "description: \"Exploratory Analysis Of The Swedish Housing Market\"\n",
    "type: article\n",
    "draft: false\n",
    "aliases: - /blog/what-i-learned-tracking-my-time-at-techstars.html\n",
    "---"
   ]
  }
 ],
 "metadata": {
  "kernelspec": {
   "display_name": "Python 3",
   "language": "python",
   "name": "python3"
  },
  "language_info": {
   "codemirror_mode": {
    "name": "ipython",
    "version": 3
   },
   "file_extension": ".py",
   "mimetype": "text/x-python",
   "name": "python",
   "nbconvert_exporter": "python",
   "pygments_lexer": "ipython3",
   "version": "3.6.8"
  }
 },
 "nbformat": 4,
 "nbformat_minor": 2
}
