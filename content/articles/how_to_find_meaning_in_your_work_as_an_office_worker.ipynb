{
 "cells": [
  {
   "cell_type": "raw",
   "metadata": {},
   "source": [
    "---\n",
    "title: \"How to find meaning in your work as an office worker\"\n",
    "author: \"Hampus Sandén\"\n",
    "date: 2020-08-20T11:53:49+02:00\n",
    "description: \"How to find meaning in your work as an office worker\"\n",
    "type: article\n",
    "draft: true\n",
    "---"
   ]
  },
  {
   "cell_type": "code",
   "execution_count": null,
   "metadata": {},
   "outputs": [],
   "source": [
    "# https://www.mobt3ath.com/uplode/book/book-58297.pdf\n",
    "# https://hbr.org/2017/12/to-find-meaning-in-your-work-change-how-you-think-about-it"
   ]
  },
  {
   "cell_type": "markdown",
   "metadata": {},
   "source": [
    "Preamble\n",
    "\n",
    "## Knowledge work vs Craftsman work\n",
    "\n",
    "\n",
    "\n",
    "## Busyness as a productivity measure\n",
    "\n",
    "Industrial age\n",
    "\n",
    "\n",
    "\n",
    "## Downtime\n",
    "\n",
    "3 rules"
   ]
  }
 ],
 "metadata": {
  "kernelspec": {
   "display_name": "Python 3",
   "language": "python",
   "name": "python3"
  },
  "language_info": {
   "codemirror_mode": {
    "name": "ipython",
    "version": 3
   },
   "file_extension": ".py",
   "mimetype": "text/x-python",
   "name": "python",
   "nbconvert_exporter": "python",
   "pygments_lexer": "ipython3",
   "version": "3.6.9"
  }
 },
 "nbformat": 4,
 "nbformat_minor": 4
}
