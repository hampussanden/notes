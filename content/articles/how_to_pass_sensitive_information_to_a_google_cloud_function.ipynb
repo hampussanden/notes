{
 "cells": [
  {
   "cell_type": "raw",
   "metadata": {},
   "source": [
    "---\n",
    "title: \"How to pass sensitive information to a Google Cloud Function\"\n",
    "author: \"Hampus Sandén\"\n",
    "date: 2020-08-20T11:53:49+02:00\n",
    "description: \"How to pass sensitive information to a Google Cloud Function\"\n",
    "type: article\n",
    "draft: true\n",
    "---"
   ]
  },
  {
   "cell_type": "markdown",
   "metadata": {},
   "source": [
    "In this post we will go trough the process of creating and updating secrets via Google Secret Manager, which allows you store, manage and access text strings that should be considered secret. After we have created our secret we will have a look at how we can use Google Secret Manager to securely use our secret in a Google Cloud Function.\n",
    "\n",
    "Google Cloud Functions makes it easy to build serverless Python programs and quite often you need to access sensitive information when working with APIs or databases. It is possible to store this information by either hard coding it in your function or storing it in an environment varable that allows plain text strings like database passwords, API keys, or TLS certificates. It is usually not recommended to do this since any third-party dependency or library you use in your function has access to these same environment variables.\n",
    "\n",
    "Instead we can conveniently store our secret along side our function with the help of Google Secret Manager, and access our secret at the application layer. \n",
    "This will limit access to the secret and it will only be available to those users who can access it in Secret Manager and, of course, the Google Cloud Function at runtime."
   ]
  },
  {
   "cell_type": "markdown",
   "metadata": {},
   "source": [
    "## Setup"
   ]
  },
  {
   "cell_type": "markdown",
   "metadata": {},
   "source": [
    "We will not go trough the process of setting up a project and billing account and i'll assume that any reader already know how to do this. \n",
    "\n",
    "If that is not the case i'll leave a link here on how to set it up. \n",
    "\n",
    "I've already setup a project with a name (mine is notes-289011)."
   ]
  },
  {
   "cell_type": "markdown",
   "metadata": {},
   "source": [
    "While Google Cloud can be operated remotely from your laptop, in this codelab you will be using Google Cloud Shell, a command line environment running in the Cloud."
   ]
  },
  {
   "cell_type": "markdown",
   "metadata": {},
   "source": [
    "Now that you've created a project, the next step is to create a secret in it. \n",
    "\n",
    "We can do this on the command line with the gcloud tool! \n",
    "\n",
    "Also, we'll do it via Cloud Shell, so no credentials ever have to leave the cloud.\n",
    "\n",
    "First, launch Cloud Shell for your project.\n",
    "\n",
    "You should see a prompt that looks like this:"
   ]
  },
  {
   "cell_type": "markdown",
   "metadata": {},
   "source": [
    "Once connected to Cloud Shell, you should see that you are already authenticated and that the project is already set to your project ID."
   ]
  },
  {
   "cell_type": "markdown",
   "metadata": {},
   "source": [
    "```plaintext\n",
    "Welcome to Cloud Shell! Type \"help\" to get started.\n",
    "Your Cloud Platform project in this session is set to notes-289011.\n",
    "Use “gcloud config set project [PROJECT_ID]” to change to a different project.\n",
    "hampussanden@cloudshell:~ (notes-289011)$\n",
    "```"
   ]
  },
  {
   "cell_type": "code",
   "execution_count": null,
   "metadata": {},
   "outputs": [],
   "source": []
  },
  {
   "cell_type": "markdown",
   "metadata": {},
   "source": [
    "## Enable APIs"
   ]
  },
  {
   "cell_type": "markdown",
   "metadata": {},
   "source": [
    "Before you can begin using the Secret Manager- and Cloud Function APIs, you must enable them. Using Cloud Shell, you can enable the APIs with the following command:\n",
    "\n",
    "[Endpoints](https://developers.google.com/apis-explorer)"
   ]
  },
  {
   "cell_type": "markdown",
   "metadata": {},
   "source": [
    "```plaintext\n",
    "gcloud services enable secretmanager.googleapis.com cloudfunctions.googleapis.com\n",
    "```"
   ]
  },
  {
   "cell_type": "markdown",
   "metadata": {},
   "source": [
    "## Creating and accessing Secrets"
   ]
  },
  {
   "cell_type": "markdown",
   "metadata": {
    "tags": [
     "important-note"
    ]
   },
   "source": [
    "<b>Note!</b> For the sake of keeping all information in this post i will add my secret directly on the command line, but this is discouraged because the text string will appear in your shell history. The correct way to add your secret in a safe way is to upload the secret from a <code>.txt</code> file. You can read more about how to create secrets in the following <a href=\"https://cloud.google.com/secret-manager/docs/creating-and-accessing-secrets\">link</a>."
   ]
  },
  {
   "cell_type": "markdown",
   "metadata": {},
   "source": [
    "```plaintext\n",
    "gcloud secrets versions add my-secret --data-file=\"/path/to/file.txt\"\n",
    "```"
   ]
  },
  {
   "cell_type": "markdown",
   "metadata": {},
   "source": [
    "### Create a secret"
   ]
  },
  {
   "cell_type": "markdown",
   "metadata": {},
   "source": [
    "```plaintext\n",
    "gcloud secrets create my-secret \\\n",
    "    --replication-policy=\"automatic\"\n",
    "```"
   ]
  },
  {
   "cell_type": "markdown",
   "metadata": {},
   "source": [
    "### Adding a secret version"
   ]
  },
  {
   "cell_type": "code",
   "execution_count": null,
   "metadata": {},
   "outputs": [],
   "source": []
  },
  {
   "cell_type": "markdown",
   "metadata": {},
   "source": [
    "The --data-file=- flag allows us to pipe the secret to the gcloud command from the output of the previous command, which just echos the secret (with no newline)."
   ]
  },
  {
   "cell_type": "markdown",
   "metadata": {},
   "source": [
    "```plaintext\n",
    "echo -n \"The answer to the ultimate question of life, the universe, and everything is 42\" | \\\n",
    "    gcloud secrets versions add my-secret --data-file=-\n",
    "```"
   ]
  },
  {
   "cell_type": "markdown",
   "metadata": {},
   "source": [
    "### One-liner"
   ]
  },
  {
   "cell_type": "markdown",
   "metadata": {},
   "source": [
    "```plaintext\n",
    "echo -n \"The answer to the ultimate question of life, the universe, and everything is 42\" | \\\n",
    "    gcloud beta secrets create my-secret \\\n",
    "      --data-file=- \\\n",
    "      --replication-policy automatic\n",
    "```"
   ]
  },
  {
   "cell_type": "markdown",
   "metadata": {},
   "source": [
    "### Accessing our Secret"
   ]
  },
  {
   "cell_type": "code",
   "execution_count": null,
   "metadata": {},
   "outputs": [],
   "source": []
  },
  {
   "cell_type": "markdown",
   "metadata": {},
   "source": [
    "```plaintext\n",
    "gcloud beta secrets versions access 1 --secret=\"my-secret\"\n",
    "The answer to the ultimate question of life, the universe, and everything is 42\n",
    "```"
   ]
  },
  {
   "cell_type": "markdown",
   "metadata": {},
   "source": [
    "## Using Secrets Manager with a Cloud Function"
   ]
  },
  {
   "cell_type": "markdown",
   "metadata": {},
   "source": [
    "Create a new folder to build our function, creating empty files to write to:"
   ]
  },
  {
   "cell_type": "markdown",
   "metadata": {},
   "source": [
    "```plaintext\n",
    "mkdir secret-manager-api-demo\n",
    "cd secret-manager-api-demo\n",
    "touch main.py\n",
    "touch requirements.txt\n",
    "```"
   ]
  },
  {
   "cell_type": "markdown",
   "metadata": {},
   "source": [
    "Open the code editor from the top right side of the Cloud Shell:"
   ]
  },
  {
   "cell_type": "code",
   "execution_count": null,
   "metadata": {},
   "outputs": [],
   "source": []
  },
  {
   "cell_type": "markdown",
   "metadata": {},
   "source": [
    "Navigate to the main.py file inside the secret-manager-api-demo folder. This is where you'll be putting all your code."
   ]
  },
  {
   "cell_type": "code",
   "execution_count": null,
   "metadata": {},
   "outputs": [],
   "source": []
  },
  {
   "cell_type": "markdown",
   "metadata": {},
   "source": [
    "Now we'll write our function. Here's our whole function that we'll deploy, that will live in a file called `main.py`:"
   ]
  },
  {
   "cell_type": "code",
   "execution_count": null,
   "metadata": {},
   "outputs": [],
   "source": [
    "import os\n",
    "from google.cloud import secretmanager\n",
    "\n",
    "client = secretmanager.SecretManagerServiceClient()\n",
    "project_id = os.environ['GCP_PROJECT']\n",
    "secret_name = 'my-secret'\n",
    "secret_version = 'latest'\n",
    "response = client.access_secret_version(project_id, secret_name, secret_version)\n",
    "secret_string = response.payload.data.decode('UTF-8')\n",
    "\n",
    "def secret_hello(request):\n",
    "    return secret_string"
   ]
  },
  {
   "cell_type": "markdown",
   "metadata": {},
   "source": [
    "`projects/*/secrets/*/versions/latest`\n",
    "\n",
    "This function is determining the resource name for the secret based on the function's environment, accessing the latest version of our secret, and then decoding the response, and finally returning the original string.\n",
    "\n",
    "Also note how the function is doing this work outside of the Python function itself. This will speed up our function by only accessing the secret once when the Cloud Function is instantiated, and not once for every single request.\n",
    "\n",
    "We'll also need to tell our function to install the `google-cloud-secret-manager` library, so we can access the secret from Python. In a file called `requirements.txt`, add the line:"
   ]
  },
  {
   "cell_type": "markdown",
   "metadata": {},
   "source": [
    "```plaintext\n",
    "google-cloud-secret-manager==0.1.1\n",
    "````"
   ]
  },
  {
   "cell_type": "markdown",
   "metadata": {},
   "source": [
    "At this point, your directory structure should look like this:"
   ]
  },
  {
   "cell_type": "markdown",
   "metadata": {},
   "source": [
    "```plaintext\n",
    ".\n",
    "├── main.py\n",
    "└── requirements.txt\n",
    "```"
   ]
  },
  {
   "cell_type": "markdown",
   "metadata": {},
   "source": [
    "## Giving our Cloud Function permission to access the secret"
   ]
  },
  {
   "cell_type": "markdown",
   "metadata": {},
   "source": []
  },
  {
   "cell_type": "markdown",
   "metadata": {},
   "source": [
    "```plaintext\n",
    "export PROJECT_ID=$(gcloud config get-value core/project)\n",
    "```"
   ]
  },
  {
   "cell_type": "markdown",
   "metadata": {},
   "source": [
    "```plaintext\n",
    "gcloud secrets add-iam-policy-binding my_secret_value \\\n",
    "    --role roles/secretmanager.secretAccessor \\\n",
    "    --member serviceAccount:${PROJECT_ID}@appspot.gserviceaccount.com\n",
    "```"
   ]
  },
  {
   "cell_type": "markdown",
   "metadata": {},
   "source": [
    "## Deploying our Cloud Function"
   ]
  },
  {
   "cell_type": "markdown",
   "metadata": {},
   "source": [
    "The last step is to deploy our function with the `gcloud` tool:"
   ]
  },
  {
   "cell_type": "markdown",
   "metadata": {},
   "source": [
    "```plaintext\n",
    "$ gcloud functions deploy secret_hello \\\n",
    "    --runtime python37 \\\n",
    "    --trigger-http \\\n",
    "    --allow-unauthenticated\n",
    "```"
   ]
  },
  {
   "cell_type": "markdown",
   "metadata": {},
   "source": [
    "If everything goes well, you should see something similar as the following output in your terminal:"
   ]
  },
  {
   "cell_type": "markdown",
   "metadata": {},
   "source": [
    "```plaintext\n",
    "Deploying function (may take a while - up to 2 minutes)...done.\n",
    "\n",
    "...\n",
    "\n",
    "entryPoint: secret_hello\n",
    "httpsTrigger:\n",
    "  url: https://<REGION>-<PROJECT_ID>.cloudfunctions.net/secret_hello\n",
    "...\n",
    "status: ACTIVE\n",
    "...\n",
    "```"
   ]
  },
  {
   "cell_type": "markdown",
   "metadata": {},
   "source": [
    "We need to retrieve the cloud function URL to be able to test it and if you don't want to copy/paste it from the last output you can retrieve it from the Cloud Functions metadata (httpsTrigger.url) with the following command:"
   ]
  },
  {
   "cell_type": "markdown",
   "metadata": {},
   "source": [
    "```plaintext\n",
    "FUNCTION_URL=$(gcloud functions describe secret_hello --format 'value(httpsTrigger.url)')\n",
    "```"
   ]
  },
  {
   "cell_type": "markdown",
   "metadata": {},
   "source": [
    "Now we can test the function by calling the variable `FUNCTION_URL` with curl in our terminal and see if it returns the expected value:"
   ]
  },
  {
   "cell_type": "markdown",
   "metadata": {},
   "source": [
    "```plaintext\n",
    "curl $FUNCTION_URL\n",
    "```"
   ]
  },
  {
   "cell_type": "markdown",
   "metadata": {},
   "source": [
    "You should see the following output in your terminal:"
   ]
  },
  {
   "cell_type": "markdown",
   "metadata": {},
   "source": [
    "```plaintext\n",
    "The answer to the ultimate question of life, the universe, and everything is 42\n",
    "```"
   ]
  },
  {
   "cell_type": "markdown",
   "metadata": {},
   "source": [
    "## Sources"
   ]
  },
  {
   "cell_type": "markdown",
   "metadata": {},
   "source": [
    "* ht<span>tps://cloud.google.com/secret-manager/docs/creating-and-accessing-secrets#secretmanager-create-secret-cli\n",
    "* https://dev.to/googlecloud/using-secrets-in-google-cloud-functions-5aem\n",
    "* https://codelabs.developers.google.com/codelabs/secret-manager-python/#0\n",
    "* https://cloud.google.com/sdk/gcloud/reference/functions/deploy\n",
    "* https://googleapis.dev/python/secretmanager/latest/gapic/v1beta1/api.html"
   ]
  },
  {
   "cell_type": "code",
   "execution_count": null,
   "metadata": {},
   "outputs": [],
   "source": []
  }
 ],
 "metadata": {
  "kernelspec": {
   "display_name": "Python 3",
   "language": "python",
   "name": "python3"
  },
  "language_info": {
   "codemirror_mode": {
    "name": "ipython",
    "version": 3
   },
   "file_extension": ".py",
   "mimetype": "text/x-python",
   "name": "python",
   "nbconvert_exporter": "python",
   "pygments_lexer": "ipython3",
   "version": "3.6.9"
  }
 },
 "nbformat": 4,
 "nbformat_minor": 4
}
